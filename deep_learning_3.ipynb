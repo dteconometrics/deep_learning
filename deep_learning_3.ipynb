{
  "nbformat": 4,
  "nbformat_minor": 0,
  "metadata": {
    "colab": {
      "provenance": []
    },
    "kernelspec": {
      "name": "python3",
      "display_name": "Python 3"
    },
    "language_info": {
      "name": "python"
    }
  },
  "cells": [
    {
      "cell_type": "markdown",
      "source": [
        "# Pacotes"
      ],
      "metadata": {
        "id": "BLWDxlPvnB-v"
      }
    },
    {
      "cell_type": "markdown",
      "source": [],
      "metadata": {
        "id": "FLEZhil1nAcA"
      }
    },
    {
      "cell_type": "markdown",
      "source": [
        "TensorFlow: Biblioteca para construir e treinar modelos de aprendizado de máquina.\n",
        "\n",
        "boston_housing: Dataset embutido no Keras contendo informações de preços de casas em Boston.\n",
        "\n",
        "layers, models: Módulos do Keras para definir e estruturar redes neurais.\n",
        "\n",
        "NumPy: Biblioteca para manipulação de arrays e cálculos numéricos.\n",
        "\n",
        "Matplotlib: Biblioteca para visualização e gráficos."
      ],
      "metadata": {
        "id": "LRk5IzJLm_q8"
      }
    },
    {
      "cell_type": "code",
      "source": [
        "import os\n",
        "import random\n",
        "import tensorflow as tf\n",
        "from tensorflow.keras.datasets import boston_housing\n",
        "from tensorflow.keras import layers, models\n",
        "import numpy as np\n",
        "import matplotlib.pyplot as plt\n",
        "\n",
        "# Definir a seed para reprodutibilidade\n",
        "seed = 0\n",
        "np.random.seed(seed)\n",
        "tf.random.set_seed(seed)\n",
        "random.seed(seed)\n",
        "os.environ['PYTHONHASHSEED'] = str(seed)\n",
        "\n",
        "initializer = tf.keras.initializers.GlorotUniform(seed=seed)\n",
        "\n",
        "tf.config.experimental.enable_op_determinism()"
      ],
      "metadata": {
        "id": "wndDVsRtnC09"
      },
      "execution_count": null,
      "outputs": []
    },
    {
      "cell_type": "markdown",
      "source": [
        "# Importa Dataset Boston Housing"
      ],
      "metadata": {
        "id": "TALDDZP3n5r3"
      }
    },
    {
      "cell_type": "markdown",
      "source": [
        "boston_housing.load_data(): Divide os dados em conjuntos de treino e teste.\n",
        "Normalização: Reduz as diferenças de escala entre as features, melhorando a eficiência do treinamento."
      ],
      "metadata": {
        "id": "jGqCbpvppQOE"
      }
    },
    {
      "cell_type": "code",
      "source": [
        "(train_data, train_targets), (test_data, test_targets) = boston_housing.load_data()\n"
      ],
      "metadata": {
        "colab": {
          "base_uri": "https://localhost:8080/"
        },
        "id": "x0aZdEyJn6cr",
        "outputId": "4418d4f4-3d88-418c-d1d3-3782ba4eb10a"
      },
      "execution_count": null,
      "outputs": [
        {
          "output_type": "stream",
          "name": "stdout",
          "text": [
            "Downloading data from https://storage.googleapis.com/tensorflow/tf-keras-datasets/boston_housing.npz\n",
            "\u001b[1m57026/57026\u001b[0m \u001b[32m━━━━━━━━━━━━━━━━━━━━\u001b[0m\u001b[37m\u001b[0m \u001b[1m0s\u001b[0m 1us/step\n"
          ]
        }
      ]
    },
    {
      "cell_type": "code",
      "source": [
        "## Normalizar\n",
        "mean = train_data.mean(axis=0)\n",
        "std = train_data.std(axis=0)\n",
        "train_data = (train_data - mean) / std\n",
        "test_data  = (test_data - mean) / std\n",
        "\n",
        "\n"
      ],
      "metadata": {
        "id": "dOcZ-gbPpQzB"
      },
      "execution_count": null,
      "outputs": []
    },
    {
      "cell_type": "markdown",
      "source": [
        "# Tensorflow"
      ],
      "metadata": {
        "id": "NkJp7ksxpk7B"
      }
    },
    {
      "cell_type": "markdown",
      "source": [
        "Sequential: Modelo de rede neural em que camadas são empilhadas sequencialmente.\n",
        "\n",
        "Camada 1: 32 neurônios, ativação ReLU, entrada compatível com as features.\n",
        "\n",
        "Camada 2: 15 neurônios, ativação ReLU.\n",
        "\n",
        "Camada 3: 1 neurônio, ativação linear, saída para prever o preço de uma casa (valor contínuo)."
      ],
      "metadata": {
        "id": "QaPMKHzIqDKU"
      }
    },
    {
      "cell_type": "code",
      "source": [
        "# Definir o modelo\n",
        "model = models.Sequential([\n",
        "    layers.Dense(32, activation='relu', input_shape=(train_data.shape[1],)),\n",
        "    layers.Dense(15, activation='relu'),\n",
        "    layers.Dense(1, activation='linear')  # Camada de saída para a previsão do preço da casa\n",
        "])"
      ],
      "metadata": {
        "colab": {
          "base_uri": "https://localhost:8080/"
        },
        "id": "LbPlXKktplqK",
        "outputId": "d4a1692c-4dc4-4f54-f12b-7ecb9dc9db1a"
      },
      "execution_count": null,
      "outputs": [
        {
          "output_type": "stream",
          "name": "stderr",
          "text": [
            "/usr/local/lib/python3.11/dist-packages/keras/src/layers/core/dense.py:87: UserWarning: Do not pass an `input_shape`/`input_dim` argument to a layer. When using Sequential models, prefer using an `Input(shape)` object as the first layer in the model instead.\n",
            "  super().__init__(activity_regularizer=activity_regularizer, **kwargs)\n"
          ]
        }
      ]
    },
    {
      "cell_type": "markdown",
      "source": [
        "## Compila Modelo"
      ],
      "metadata": {
        "id": "aMvlz4ymqKo-"
      }
    },
    {
      "cell_type": "markdown",
      "source": [
        "Otimizador: RMSprop, ajusta os pesos da rede durante o treinamento.\n",
        "\n",
        "Função de perda: Erro quadrático médio (MSE), mede a diferença entre previsões e valores reais.\n",
        "\n",
        "Métrica: Erro médio absoluto (MAE), fornece a média das diferenças absolutas entre as previsões e os valores reais."
      ],
      "metadata": {
        "id": "G5fp68VyqMxR"
      }
    },
    {
      "cell_type": "code",
      "source": [
        "# Compilar o modelo\n",
        "model.compile(optimizer='rmsprop', loss='mse', metrics=['mae'])"
      ],
      "metadata": {
        "id": "xuATq-cRqOP7"
      },
      "execution_count": null,
      "outputs": []
    },
    {
      "cell_type": "markdown",
      "source": [
        "## Treina Modelo"
      ],
      "metadata": {
        "id": "XkKblFmLqRoD"
      }
    },
    {
      "cell_type": "markdown",
      "source": [
        "fit: Treina o modelo nos dados.\n",
        "\n",
        "Épocas: Número de iterações completas sobre os dados (100).\n",
        "\n",
        "Batch size: Número de amostras processadas antes de atualizar os pesos (1).\n",
        "\n",
        "validation_split: Usa 20% dos dados de treinamento para validação.\n",
        "\n",
        "verbose=0: Suprime a exibição detalhada do progresso."
      ],
      "metadata": {
        "id": "ZCBaulV3qUZn"
      }
    },
    {
      "cell_type": "code",
      "source": [
        "# Treinar o modelo\n",
        "history = model.fit(train_data, train_targets, epochs=100, batch_size=1, verbose=0, validation_split=0.2)"
      ],
      "metadata": {
        "id": "OvtcRqDRqW2y"
      },
      "execution_count": null,
      "outputs": []
    },
    {
      "cell_type": "markdown",
      "source": [
        "## Avalia Resultados"
      ],
      "metadata": {
        "id": "QIZ1eWeQqnRg"
      }
    },
    {
      "cell_type": "code",
      "source": [
        "# Avaliar o modelo nos dados de teste\n",
        "test_loss, test_mae = model.evaluate(test_data, test_targets)\n",
        "print(f'Erro médio absoluto nos dados de teste: {test_mae:.2f}')"
      ],
      "metadata": {
        "colab": {
          "base_uri": "https://localhost:8080/"
        },
        "id": "7m68I3GYqocf",
        "outputId": "05762e14-cbc9-4afc-8cd4-ccc9476dce6c"
      },
      "execution_count": null,
      "outputs": [
        {
          "output_type": "stream",
          "name": "stdout",
          "text": [
            "\u001b[1m4/4\u001b[0m \u001b[32m━━━━━━━━━━━━━━━━━━━━\u001b[0m\u001b[37m\u001b[0m \u001b[1m0s\u001b[0m 13ms/step - loss: 18.2313 - mae: 2.5073 \n",
            "Erro médio absoluto nos dados de teste: 2.77\n"
          ]
        }
      ]
    },
    {
      "cell_type": "markdown",
      "source": [
        "# Gráfico"
      ],
      "metadata": {
        "id": "5xzPUGliqrXD"
      }
    },
    {
      "cell_type": "markdown",
      "source": [
        "Curvas de erro: Gráfico que mostra como o erro médio absoluto varia ao longo do treinamento.\n",
        "\n",
        "mae: Erro no treinamento.\n",
        "\n",
        "val_mae: Erro na validação.\n",
        "\n",
        "Visualização: Ajuda a identificar problemas como overfitting ou underfitting."
      ],
      "metadata": {
        "id": "Ak4j3yoZqsza"
      }
    },
    {
      "cell_type": "code",
      "source": [
        "# Plotar a curva de aprendizado\n",
        "mae = history.history['mae']\n",
        "val_mae = history.history['val_mae']\n",
        "epochs = range(1, len(mae) + 1)\n",
        "\n",
        "plt.plot(epochs, mae, 'bo', label='Erro médio absoluto - Treinamento')\n",
        "plt.plot(epochs, val_mae, 'b', label='Erro médio absoluto - Validação')\n",
        "plt.title('Curva de Aprendizado')\n",
        "plt.xlabel('Épocas')\n",
        "plt.ylabel('Erro Médio Absoluto')\n",
        "plt.legend()"
      ],
      "metadata": {
        "colab": {
          "base_uri": "https://localhost:8080/",
          "height": 491
        },
        "id": "y4UxSAbtquUP",
        "outputId": "46a242f8-9224-41ee-dd26-e17d5264202f"
      },
      "execution_count": null,
      "outputs": [
        {
          "output_type": "execute_result",
          "data": {
            "text/plain": [
              "<matplotlib.legend.Legend at 0x7f0ee80d3150>"
            ]
          },
          "metadata": {},
          "execution_count": 10
        },
        {
          "output_type": "display_data",
          "data": {
            "text/plain": [
              "<Figure size 640x480 with 1 Axes>"
            ],
            "image/png": "[encoded data removed]"
          },
          "metadata": {}
        }
      ]
    }
  ]
}